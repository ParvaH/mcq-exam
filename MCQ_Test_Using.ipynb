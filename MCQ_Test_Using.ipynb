{
  "nbformat": 4,
  "nbformat_minor": 0,
  "metadata": {
    "colab": {
      "name": "DSA_MidTerm_2.ipynb",
      "provenance": [],
      "collapsed_sections": []
    },
    "kernelspec": {
      "display_name": "Python 3",
      "name": "python3"
    }
  },
  "cells": [
    {
      "cell_type": "markdown",
      "metadata": {
        "id": "FAP-1io6m_Zd"
      },
      "source": [
        "# Problem Statement\r\n",
        "```\r\n",
        "There are 1000 students attempting x questions in a competitive examination, where x is your birthdate coded as ddmmyyyy format.\r\n",
        "For example if your birthday was on 11/12/2000, then x=11122000. Each student can score one mark per right answer, and a penalty of-0.5 marks per wrong answer. \r\n",
        "The negative marks increases per wrong answer as a penalty p=0.5*n, where n represents the n'th wrong answer. \r\n",
        "The questions are categorised into 5 topics, with number of questions in the categories in the ratio 10:4:3:2:1. \r\n",
        "All the questions are multiple choice questions (MCQ) type, with possibly more than one correct answer.\r\n",
        "\r\n",
        "Write a program to automatically read the answers, assign marks, and rank the students based on their performance in each of the five topic categories. \r\n",
        "Your aim should be to reduce time and space complexity, at the same time ensure accurate results.\r\n",
        "\r\n",
        "Things to consider\r\n",
        "1. Explain the algorithm and logic of the solution in detail.\r\n",
        "2. Explain why you have selected this approach by performing time complexity analysis. Represent the complexity in Big O notation.\r\n",
        "3. Show step by step explanation of the code. Include the code within the report.\r\n",
        "4. Extensively make use of data structures. List the set of data structures used. \r\n",
        "5. Explain when your solution works the best, and when it performs the worst.\r\n",
        "6. Explain the algorithm with a flowchart as well as illustration (can be a hand drawing)\r\n",
        "7. Check the grammar. Avoid spelling mistakes, spacing errors, capitilisation issues etc.\r\n",
        "8. Make your solution unique, even if its a minor advancement from that is already there on internet and literature. Aim to come up with your own ideas.\r\n",
        "9. Spend time on formating the report. If possible make use of LaTex based editors.\r\n",
        "10. You may discuss the ideas in the chat. This will have marks.\r\n",
        "\r\n",
        "Things to submit\r\n",
        "1. A PDF file with a very detailed explanation of the solutions. Typically, a minimum of 20 pages in A4 size paper, 12 pt font, times new roman, and single line spacing; is expected.\r\n",
        "2. Python code\r\n",
        "3. Attach the screenshots of the chat discussions you were involved in discussing the solutions. Highlight your contributions.\r\n",
        "\r\n",
        "Note\r\n",
        "1. This is a second mid-term, and not a replacement for the first mid-term.\r\n",
        "2. The best among 1st and 2nd mid-term will be considered as final marks. If you score less in mid-term 2, in comparison with mid-term 1, in such case, the marks scored in midterm 2 will be considered as bonus marks. The bonus marks will not exceeding 5% of the marks scored in the mid-term 1.\r\n",
        "3. The mid-term one, and the mid-term two are expected to be attempted. In case, mid-term one was missed due to unavoidable reasons such as late joining or medical reasons only the marks from mid-term two will be counted.\r\n",
        "```"
      ]
    },
    {
      "cell_type": "markdown",
      "metadata": {
        "id": "Fo5z0-E_Rsd0"
      },
      "source": [
        "\r\n",
        "#Maximum Number of Questions \r\n",
        "```\r\n",
        "We need maximum number of questions to generate answer for all possible \r\n",
        "questions. Let us fix the the range of date of birth of eligible studets to be 01-01-1971 to 31-12-2003.\r\n",
        "From this dates, minimum number of questions attempted by any student will be 1011971 and maximum number of questions will be 31122003\r\n",
        "```"
      ]
    },
    {
      "cell_type": "markdown",
      "metadata": {
        "id": "vrXkq5ayUxUP"
      },
      "source": [
        "# Categorization of attempted questions\r\n",
        "```\r\n",
        "First we will  divide the maximum number of questions to topic categories one to five.\r\n",
        "Date corresponding to maximum case would be 31-12-2003\r\n",
        "The ratio of questions belonging to each topic category is given as10:4:3:2:1.\r\n",
        "For the case where the question number is maximum, that is 1012003 the category wise split up questions will look like the following.\r\n",
        "\r\n",
        "1.   Total number of questions = 31122003 (Maximum case)\r\n",
        "*  Number of questions in **Category 1** = 15561001.5\r\n",
        "*  Number of questions in **Category 2** = 6224400.6\r\n",
        "*  Number of questions in **Category 3** = 4668300.45\r\n",
        "*  Number of questions in **Category 4** = 3112200.3\r\n",
        "*  Number of questions in **Category 5** = 1556100.15\r\n",
        "\r\n",
        "2.   Now let us round the numbers. This gives the category wise split up as\r\n",
        "*  Number of questions in **Category 1** = 15561001\r\n",
        "*  Number of questions in **Category 2** = 6224401\r\n",
        "*  Number of questions in **Category 3** = 4668300\r\n",
        "*  Number of questions in **Category 4** = 3112200\r\n",
        "*  Number of questions in **Category 5** = 1556100\r\n",
        "\r\n",
        "Total questions = 31122002\r\n",
        "\r\n",
        "3. If total dosen't add up to the actual number of questions attempted, then let us add to or subtract from category 5 to get correct total.\r\n",
        "\r\n",
        "*Number of questions in **Category 5** = 1556101\r\n",
        "Total questions = 31122003\r\n",
        "\r\n",
        "\r\n",
        "```"
      ]
    },
    {
      "cell_type": "markdown",
      "metadata": {
        "id": "ynojwcikg5-4"
      },
      "source": [
        "# Answer Key and Response"
      ]
    },
    {
      "cell_type": "markdown",
      "metadata": {
        "id": "ix0x0oC8hX-5"
      },
      "source": [
        "```\r\n",
        "We can generate caanswer key for each category based on the maximum case. Using this response to questions can be evaluated.\r\n",
        "\r\n",
        "Answer key cqn be represented using  a matrix whose rows correspond to question number and columns correspond to answer options.\r\n",
        "\r\n",
        "A one in the answer key matrix will represent correct anwer and a -1 would represent a wrong answer.\r\n",
        "\r\n",
        "A single row of the answer key matrix will look like the following:\r\n",
        "```\r\n",
        "```\r\n",
        "Answer Key Matrix = A\r\n",
        "\r\n",
        "                             a  b  c d  \r\n",
        "        Q_Num_1  [1 -1 -1 1]\r\n",
        "```\r\n",
        "```\r\n",
        "Consider question number 1, represented as Q_Num_1.\r\n",
        "Here a b c d are the options. Since a question can have multiple correct answers, elements in columns a and b have the value 1. \r\n",
        "Elements of column b and c are -1 since they represent the wrong answer.\r\n",
        "\r\n",
        "A similar approach can be followed to store the responses as well.\r\n",
        " For example is the response to the above Q_Num_1 can be represented as below. Here option choosen or marked by the student is represented with 1 and other options are 0.\r\n",
        "```\r\n",
        "```\r\n",
        "Response Matrix = R\r\n",
        "                             a b c d  \r\n",
        "        Q_Num_1  [1 0 0 0]\r\n",
        "```\r\n",
        "```\r\n",
        "Numpy arrays can be used for  both answer key and response matrices.\r\n",
        "```"
      ]
    },
    {
      "cell_type": "markdown",
      "metadata": {
        "id": "OkQcCD8Fk8lj"
      },
      "source": [
        "# Calculation of Marks\r\n",
        "```\r\n",
        "Each correct response carry 1 mark. The negative marks increases per wrong answer as a penalty p=0.5*n, where n represents the n'th wrong answer.\r\n",
        "\r\n",
        "1)So if we multiply corresponding elements of the answer key matrix and response matrix and this would give us another matrix, say the marks matrix M.\r\n",
        "\r\n",
        "M = np.multiply(A,R)\r\n",
        "```\r\n",
        "```\r\n",
        "2)If we take sum of all 1's, this would give the marks for correct answers.\r\n",
        "\r\n",
        "positive marks = count of 1's\r\n",
        "\r\n",
        "```\r\n",
        "```\r\n",
        "3)In a similar manner, if we multiply corresponding elements of the answer key matrix and response matrix and count all -1's, this would give the number wrong answer (n).\r\n",
        " From this the negative marks can be calculated by:\r\n",
        "\r\n",
        "negative marks = n*(n + 1)/4\r\n",
        "```\r\n",
        "```\r\n",
        "This calculation is to be done for each of the 5 categories separately\r\n",
        "```\r\n",
        "\r\n"
      ]
    },
    {
      "cell_type": "markdown",
      "metadata": {
        "id": "V7ZdHXxrsiSH"
      },
      "source": [
        "# Generation of answer key\r\n",
        "```\r\n",
        "We can pre-prepare answer key for each category, based on the maximum number of questions case.\r\n",
        "Then this category wise answer key can be used to evaluate response of student. \r\n",
        "```"
      ]
    },
    {
      "cell_type": "code",
      "metadata": {
        "id": "UCRuYpAvUXhX"
      },
      "source": [
        "#Category 1\r\n",
        " \r\n",
        "import numpy as np\r\n",
        " \r\n",
        "#generate an answer key with 506002 questions\r\n",
        "#Randomly choose an option as correct and represent it using 1\r\n",
        "#numpy array for answer key {DS}\r\n",
        "A_Cat1 = np.random.randint(2, size=(15561002, 4))\r\n",
        " \r\n",
        "#Mark the remaining options as wrong using -1\r\n",
        "A_Cat1[A_Cat1 == 0] = -1\r\n",
        " \r\n",
        "#print anwer key for category 1\r\n",
        "#print(A_Cat1)\r\n",
        " \r\n",
        "#Category 2\r\n",
        " \r\n",
        "#generate an answer key with 202401 questions\r\n",
        "#Randomly choose an option as correct and represent it using 1\r\n",
        "A_Cat2 = np.random.randint(2, size=(6224401, 4))\r\n",
        " \r\n",
        "#Mark the remaining options as wrong using -1\r\n",
        "A_Cat2[A_Cat2 == 0] = -1\r\n",
        " \r\n",
        "#print anwer key for category 2\r\n",
        "#print(A_Cat2)\r\n",
        " \r\n",
        "#Category 3\r\n",
        " \r\n",
        "#generate an answer key with 151800 questions\r\n",
        "#Randomly choose an option as correct and represent it using 1\r\n",
        "A_Cat3 = np.random.randint(2, size=(4668300, 4))\r\n",
        " \r\n",
        "#Mark the remaining options as wrong using -1\r\n",
        "A_Cat3[A_Cat3 == 0] = -1.\r\n",
        " \r\n",
        "#print anwer key for category 3\r\n",
        "#print(A_Cat3)\r\n",
        " \r\n",
        "#Category 4\r\n",
        " \r\n",
        "#generate an answer key with 101200  questions\r\n",
        "#Randomly choose an option as correct and represent it using 1\r\n",
        "A_Cat4 = np.random.randint(2, size=(3112200 , 4))\r\n",
        " \r\n",
        "#Mark the remaining options as wrong using -1\r\n",
        "A_Cat4[A_Cat4 == 0] = -1.\r\n",
        " \r\n",
        "#print anwer key for category 4\r\n",
        "#print(A_Cat4)\r\n",
        " \r\n",
        "#Category 5\r\n",
        " \r\n",
        "#generate an answer key with 50600 questions\r\n",
        "#Randomly choose an option as correct and represent it using 1\r\n",
        "A_Cat5 = np.random.randint(2, size=(1556101, 4))\r\n",
        " \r\n",
        "#Mark the remaining options as wrong using -1\r\n",
        "A_Cat5[A_Cat5 == 0] = -1.\r\n"
      ],
      "execution_count": 2,
      "outputs": []
    },
    {
      "cell_type": "markdown",
      "metadata": {
        "id": "R1iRJZiez3I2"
      },
      "source": [
        "# Dealing with Response\r\n",
        "```\r\n",
        "First we need the DOB to get the number of questions attempted.\r\n",
        "Now these  questions are to be divided into 5 categories based on the ratio 10:4:3:2:1\r\n",
        "```"
      ]
    },
    {
      "cell_type": "markdown",
      "metadata": {
        "id": "SwQjkfDKVhqH"
      },
      "source": [
        "# Catergory wise number of questions"
      ]
    },
    {
      "cell_type": "code",
      "metadata": {
        "id": "41yy6Vek0Kyd"
      },
      "source": [
        "#Finding category wise questions\r\n",
        "def questions_per_cat(n_total,cat):\r\n",
        "  q_per_cat = []\r\n",
        "  #number of questions in category 1\r\n",
        "  n1 = round(n_total * (10/20))\r\n",
        "  q_per_cat.append(n1)\r\n",
        "\r\n",
        "  #number of questions in category 2\r\n",
        "  n2 = round(n_total * (4/20))\r\n",
        "  q_per_cat.append(n2)\r\n",
        "\r\n",
        "  #number of questions in category 3\r\n",
        "  n3 = round(n_total * (3/20))\r\n",
        "  q_per_cat.append(n3)\r\n",
        "\r\n",
        "  #number of questions in category 4\r\n",
        "  n4 = round(n_total * (2/20))\r\n",
        "  q_per_cat.append(n4)\r\n",
        "\r\n",
        "  #number of questions in category 5\r\n",
        "  n5 = round(n_total * (1/20))\r\n",
        "  \r\n",
        "\r\n",
        "  #check if category wise numbers add up to n_total\r\n",
        "  #if not adjust the number in category 5\r\n",
        "\r\n",
        "  diff = n_total - (n1 + n2 + n3 + n4 + n5)\r\n",
        "  if diff != 0:\r\n",
        "    n5 = n5 + diff\r\n",
        "  else:\r\n",
        "    n5 = n5\r\n",
        "  q_per_cat.append(n5)\r\n",
        "  return int(q_per_cat[cat-1])"
      ],
      "execution_count": 3,
      "outputs": []
    },
    {
      "cell_type": "markdown",
      "metadata": {
        "id": "0sPgd2YA2Fp7"
      },
      "source": [
        "# Generate Response\r\n",
        "```\r\n",
        "Now we need to generate the response matrix for each category and append it with zeros, so as to match the dimensions of answer key matrix. \r\n",
        "This will help us to do operations between answer key matrix and response matrix.\r\n",
        "```"
      ]
    },
    {
      "cell_type": "code",
      "metadata": {
        "id": "oNKdMQBh2ZYe"
      },
      "source": [
        "#Generate response\r\n",
        "#numpy array for response {DS}\r\n",
        "def gen_response_cat(num_cat,A_cat):\r\n",
        "  a = np.random.randint(2, size=(num_cat, 4))\r\n",
        "  R = np.zeros(A_cat.shape)\r\n",
        "  R[:a.shape[0],:a.shape[1]] = a\r\n",
        "  return R\r\n"
      ],
      "execution_count": 4,
      "outputs": []
    },
    {
      "cell_type": "markdown",
      "metadata": {
        "id": "pxfqFKB57bpY"
      },
      "source": [
        "# Calculating marks\r\n",
        "```\r\n",
        "To calculate the marks the below steps can be followed:\r\n",
        "* Multiply corresponding elements of answer key and response for each category\r\n",
        "* From this resultant matrix, count the number of 1's to get marks for correct answers\r\n",
        "* Count the number of -1s to get number of wrong answers\r\n",
        "* Using the formula negative marks = n*(n + 1)/4, calculate negative marks \r\n",
        "* Add marks of right and wrong answers to get category wise total marks of a student \r\n",
        "```"
      ]
    },
    {
      "cell_type": "code",
      "metadata": {
        "id": "a3C-T0HJuf4n"
      },
      "source": [
        "def calc_marks_cat1(A,R):\r\n",
        "  M = np.multiply(A,R)\r\n",
        "  pos = np.count_nonzero(M == 1)\r\n",
        "  n = np.count_nonzero(M == -1)\r\n",
        "  neg = n*(n + 1)/4\r\n",
        "  cat_total = pos - neg\r\n",
        "  return cat_total"
      ],
      "execution_count": 5,
      "outputs": []
    },
    {
      "cell_type": "markdown",
      "metadata": {
        "id": "u6eomluJbb5f"
      },
      "source": [
        "# StudentExam Class to Bring Together Required Methods"
      ]
    },
    {
      "cell_type": "code",
      "metadata": {
        "id": "2mUPyEUXuf05"
      },
      "source": [
        "import os\r\n",
        "class StudentExam:\r\n",
        "    def __init__(self,name='Student',dob=0):\r\n",
        "      self.name = name\r\n",
        "      self.dob = dob\r\n",
        "    def set_name(self,name):\r\n",
        "      self.name = name\r\n",
        "    def get_dob(self):\r\n",
        "      print(\"Provide DOB in ddmmyyyy format. \\n\" \"If your DOB is 1-Jan-2000, enter 01012000\")\r\n",
        "      dob = int(input(\"Enter DOB: \"))\r\n",
        "      self.dob = dob\r\n",
        "\r\n",
        "    def q_num(self):\r\n",
        "      self.n1 = questions_per_cat(self.dob,1)\r\n",
        "      self.n2 = questions_per_cat(self.dob,2)\r\n",
        "      self.n3 = questions_per_cat(self.dob,3)\r\n",
        "      self.n4 = questions_per_cat(self.dob,4)\r\n",
        "      self.n5 = questions_per_cat(self.dob,5)\r\n",
        "    def response(self):\r\n",
        "      self.R1 = gen_response_cat(self.n1,A_Cat1)\r\n",
        "      self.R2 = gen_response_cat(self.n2,A_Cat2)\r\n",
        "      self.R3 = gen_response_cat(self.n3,A_Cat3)\r\n",
        "      self.R4 = gen_response_cat(self.n4,A_Cat4)\r\n",
        "      self.R5 = gen_response_cat(self.n5,A_Cat5)\r\n",
        "    def marks(self):\r\n",
        "      self.cat1 = calc_marks_cat1(A_Cat1,self.R1)\r\n",
        "      self.cat2 = calc_marks_cat1(A_Cat2,self.R2)\r\n",
        "      self.cat3 = calc_marks_cat1(A_Cat3,self.R3)\r\n",
        "      self.cat4 = calc_marks_cat1(A_Cat4,self.R4)\r\n",
        "      self.cat5 = calc_marks_cat1(A_Cat5,self.R5)\r\n",
        "  \r\n",
        "    def print_student_marks(self):\r\n",
        "      writepath = 'report.txt'\r\n",
        "      mode = 'a' if os.path.exists(writepath) else 'w'\r\n",
        "      with open(writepath, mode) as f:\r\n",
        "        print(self.name, self.cat1,self.cat2,self.cat3,self.cat4,self.cat5,sep= \",\",file=f)\r\n",
        "      f.close()"
      ],
      "execution_count": 13,
      "outputs": []
    },
    {
      "cell_type": "markdown",
      "metadata": {
        "id": "o-p1XFZ1_QUV"
      },
      "source": [
        "# Conduct the Exam\r\n",
        "```\r\n",
        "Let us test our code by conductiong a mock exam\r\n",
        "```"
      ]
    },
    {
      "cell_type": "code",
      "metadata": {
        "id": "ZMzJlhBG_OEk"
      },
      "source": [
        "import datetime\r\n",
        "import random\r\n",
        "\r\n",
        "def gen_dob():\r\n",
        "  start_date = datetime.date(1971, 1, 1)\r\n",
        "  end_date = datetime.date(2003, 1, 1)\r\n",
        "  time_between_dates = end_date - start_date\r\n",
        "  days_between_dates = time_between_dates.days\r\n",
        "  random_number_of_days = random.randrange(days_between_dates)\r\n",
        "  yyyymmdd = str(start_date + datetime.timedelta(days=random_number_of_days))\r\n",
        "  ddmmyyyy = yyyymmdd[8:] + yyyymmdd[5:7] + yyyymmdd[:4]\r\n",
        "  return int(ddmmyyyy)\r\n",
        "def gen_names(i):\r\n",
        "    name = 'Student'+str(i)\r\n",
        "    return name"
      ],
      "execution_count": 14,
      "outputs": []
    },
    {
      "cell_type": "markdown",
      "metadata": {
        "id": "HDuuAw9Ubms1"
      },
      "source": [
        "#Assigning ranks to sudents for each category"
      ]
    },
    {
      "cell_type": "code",
      "metadata": {
        "colab": {
          "base_uri": "https://localhost:8080/",
          "height": 573
        },
        "id": "fMVahskxm1hX",
        "outputId": "68d6942e-7373-4e6d-9e85-7340166d00a5"
      },
      "source": [
        "# importing pandas package \r\n",
        "import pandas as pd \r\n",
        "import time\r\n",
        "t1 = time.time()\r\n",
        "  #Conduct exam for 10 students\r\n",
        "for i in range(10):\r\n",
        "  stu = StudentExam(gen_names(i),gen_dob())\r\n",
        "  stu.q_num()\r\n",
        "  stu.response()\r\n",
        "  stu.marks()\r\n",
        "  stu.print_student_marks()\r\n",
        "# making data frame from csv file \r\n",
        "df = pd.read_csv('report.txt', header =None)\r\n",
        "df.columns = ['Name', 'Category1Marks','Category2Marks','Category3Marks','Category4Marks','Category5Marks']\r\n",
        "# creating a rank column and passing the returned rank series \r\n",
        "df['Category 1 Rank'] = df.Category1Marks.rank(method='dense',ascending=False)\r\n",
        "df['Category 2 Rank'] = df.Category2Marks.rank(method='dense',ascending=False)\r\n",
        "df['Category 3 Rank'] = df.Category3Marks.rank(method='dense',ascending=False)\r\n",
        "df['Category 4 Rank'] = df.Category4Marks.rank(method='dense',ascending=False)\r\n",
        "df['Category 5 Rank'] = df.Category5Marks.rank(method='dense',ascending=False)\r\n",
        "\r\n",
        "  \r\n",
        "# display after sorting w.r.t Name column \r\n",
        "print(df)\r\n",
        "df\r\n",
        "#print(time.time() - t1)"
      ],
      "execution_count": 16,
      "outputs": [
        {
          "output_type": "stream",
          "text": [
            "       Name  Category1Marks  ...  Category 4 Rank  Category 5 Rank\n",
            "0  Student0   -2.030930e+13  ...              7.0              7.0\n",
            "1  Student1   -1.075929e+13  ...              6.0              6.0\n",
            "2  Student2   -3.036719e+13  ...              8.0              8.0\n",
            "3  Student3   -3.083871e+12  ...              3.0              3.0\n",
            "4  Student4   -7.203870e+10  ...              1.0              1.0\n",
            "5  Student5   -4.229550e+13  ...              9.0              9.0\n",
            "6  Student6   -5.274298e+13  ...             10.0             10.0\n",
            "7  Student7   -1.071545e+13  ...              5.0              5.0\n",
            "8  Student8   -5.128337e+12  ...              4.0              4.0\n",
            "9  Student9   -1.052925e+12  ...              2.0              2.0\n",
            "\n",
            "[10 rows x 11 columns]\n"
          ],
          "name": "stdout"
        },
        {
          "output_type": "execute_result",
          "data": {
            "text/html": [
              "<div>\n",
              "<style scoped>\n",
              "    .dataframe tbody tr th:only-of-type {\n",
              "        vertical-align: middle;\n",
              "    }\n",
              "\n",
              "    .dataframe tbody tr th {\n",
              "        vertical-align: top;\n",
              "    }\n",
              "\n",
              "    .dataframe thead th {\n",
              "        text-align: right;\n",
              "    }\n",
              "</style>\n",
              "<table border=\"1\" class=\"dataframe\">\n",
              "  <thead>\n",
              "    <tr style=\"text-align: right;\">\n",
              "      <th></th>\n",
              "      <th>Name</th>\n",
              "      <th>Category1Marks</th>\n",
              "      <th>Category2Marks</th>\n",
              "      <th>Category3Marks</th>\n",
              "      <th>Category4Marks</th>\n",
              "      <th>Category5Marks</th>\n",
              "      <th>Category 1 Rank</th>\n",
              "      <th>Category 2 Rank</th>\n",
              "      <th>Category 3 Rank</th>\n",
              "      <th>Category 4 Rank</th>\n",
              "      <th>Category 5 Rank</th>\n",
              "    </tr>\n",
              "  </thead>\n",
              "  <tbody>\n",
              "    <tr>\n",
              "      <th>0</th>\n",
              "      <td>Student0</td>\n",
              "      <td>-2.030930e+13</td>\n",
              "      <td>-3.249833e+12</td>\n",
              "      <td>-1.831769e+12</td>\n",
              "      <td>-8.117150e+11</td>\n",
              "      <td>-2.039916e+11</td>\n",
              "      <td>7.0</td>\n",
              "      <td>7.0</td>\n",
              "      <td>7.0</td>\n",
              "      <td>7.0</td>\n",
              "      <td>7.0</td>\n",
              "    </tr>\n",
              "    <tr>\n",
              "      <th>1</th>\n",
              "      <td>Student1</td>\n",
              "      <td>-1.075929e+13</td>\n",
              "      <td>-1.723493e+12</td>\n",
              "      <td>-9.696356e+11</td>\n",
              "      <td>-4.309775e+11</td>\n",
              "      <td>-1.075527e+11</td>\n",
              "      <td>6.0</td>\n",
              "      <td>6.0</td>\n",
              "      <td>6.0</td>\n",
              "      <td>6.0</td>\n",
              "      <td>6.0</td>\n",
              "    </tr>\n",
              "    <tr>\n",
              "      <th>2</th>\n",
              "      <td>Student2</td>\n",
              "      <td>-3.036719e+13</td>\n",
              "      <td>-4.865692e+12</td>\n",
              "      <td>-2.735666e+12</td>\n",
              "      <td>-1.214981e+12</td>\n",
              "      <td>-3.035963e+11</td>\n",
              "      <td>8.0</td>\n",
              "      <td>8.0</td>\n",
              "      <td>8.0</td>\n",
              "      <td>8.0</td>\n",
              "      <td>8.0</td>\n",
              "    </tr>\n",
              "    <tr>\n",
              "      <th>3</th>\n",
              "      <td>Student3</td>\n",
              "      <td>-3.083871e+12</td>\n",
              "      <td>-4.926801e+11</td>\n",
              "      <td>-2.782475e+11</td>\n",
              "      <td>-1.233736e+11</td>\n",
              "      <td>-3.081596e+10</td>\n",
              "      <td>3.0</td>\n",
              "      <td>3.0</td>\n",
              "      <td>3.0</td>\n",
              "      <td>3.0</td>\n",
              "      <td>3.0</td>\n",
              "    </tr>\n",
              "    <tr>\n",
              "      <th>4</th>\n",
              "      <td>Student4</td>\n",
              "      <td>-7.203870e+10</td>\n",
              "      <td>-1.151935e+10</td>\n",
              "      <td>-6.491002e+09</td>\n",
              "      <td>-2.872933e+09</td>\n",
              "      <td>-7.267209e+08</td>\n",
              "      <td>1.0</td>\n",
              "      <td>1.0</td>\n",
              "      <td>1.0</td>\n",
              "      <td>1.0</td>\n",
              "      <td>1.0</td>\n",
              "    </tr>\n",
              "    <tr>\n",
              "      <th>5</th>\n",
              "      <td>Student5</td>\n",
              "      <td>-4.229550e+13</td>\n",
              "      <td>-6.777118e+12</td>\n",
              "      <td>-3.807405e+12</td>\n",
              "      <td>-1.694633e+12</td>\n",
              "      <td>-4.237655e+11</td>\n",
              "      <td>9.0</td>\n",
              "      <td>9.0</td>\n",
              "      <td>9.0</td>\n",
              "      <td>9.0</td>\n",
              "      <td>9.0</td>\n",
              "    </tr>\n",
              "    <tr>\n",
              "      <th>6</th>\n",
              "      <td>Student6</td>\n",
              "      <td>-5.274298e+13</td>\n",
              "      <td>-8.439265e+12</td>\n",
              "      <td>-4.745336e+12</td>\n",
              "      <td>-2.110185e+12</td>\n",
              "      <td>-5.279174e+11</td>\n",
              "      <td>10.0</td>\n",
              "      <td>10.0</td>\n",
              "      <td>10.0</td>\n",
              "      <td>10.0</td>\n",
              "      <td>10.0</td>\n",
              "    </tr>\n",
              "    <tr>\n",
              "      <th>7</th>\n",
              "      <td>Student7</td>\n",
              "      <td>-1.071545e+13</td>\n",
              "      <td>-1.713775e+12</td>\n",
              "      <td>-9.646643e+11</td>\n",
              "      <td>-4.272194e+11</td>\n",
              "      <td>-1.071998e+11</td>\n",
              "      <td>5.0</td>\n",
              "      <td>5.0</td>\n",
              "      <td>5.0</td>\n",
              "      <td>5.0</td>\n",
              "      <td>5.0</td>\n",
              "    </tr>\n",
              "    <tr>\n",
              "      <th>8</th>\n",
              "      <td>Student8</td>\n",
              "      <td>-5.128337e+12</td>\n",
              "      <td>-8.216031e+11</td>\n",
              "      <td>-4.616730e+11</td>\n",
              "      <td>-2.049411e+11</td>\n",
              "      <td>-5.141862e+10</td>\n",
              "      <td>4.0</td>\n",
              "      <td>4.0</td>\n",
              "      <td>4.0</td>\n",
              "      <td>4.0</td>\n",
              "      <td>4.0</td>\n",
              "    </tr>\n",
              "    <tr>\n",
              "      <th>9</th>\n",
              "      <td>Student9</td>\n",
              "      <td>-1.052925e+12</td>\n",
              "      <td>-1.677457e+11</td>\n",
              "      <td>-9.472930e+10</td>\n",
              "      <td>-4.209627e+10</td>\n",
              "      <td>-1.057735e+10</td>\n",
              "      <td>2.0</td>\n",
              "      <td>2.0</td>\n",
              "      <td>2.0</td>\n",
              "      <td>2.0</td>\n",
              "      <td>2.0</td>\n",
              "    </tr>\n",
              "  </tbody>\n",
              "</table>\n",
              "</div>"
            ],
            "text/plain": [
              "       Name  Category1Marks  ...  Category 4 Rank  Category 5 Rank\n",
              "0  Student0   -2.030930e+13  ...              7.0              7.0\n",
              "1  Student1   -1.075929e+13  ...              6.0              6.0\n",
              "2  Student2   -3.036719e+13  ...              8.0              8.0\n",
              "3  Student3   -3.083871e+12  ...              3.0              3.0\n",
              "4  Student4   -7.203870e+10  ...              1.0              1.0\n",
              "5  Student5   -4.229550e+13  ...              9.0              9.0\n",
              "6  Student6   -5.274298e+13  ...             10.0             10.0\n",
              "7  Student7   -1.071545e+13  ...              5.0              5.0\n",
              "8  Student8   -5.128337e+12  ...              4.0              4.0\n",
              "9  Student9   -1.052925e+12  ...              2.0              2.0\n",
              "\n",
              "[10 rows x 11 columns]"
            ]
          },
          "metadata": {
            "tags": []
          },
          "execution_count": 16
        }
      ]
    }
  ]
}